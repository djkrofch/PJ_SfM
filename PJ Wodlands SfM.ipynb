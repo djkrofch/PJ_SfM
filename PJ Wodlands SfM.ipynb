{
 "cells": [
  {
   "cell_type": "markdown",
   "metadata": {},
   "source": [
    "### Carbon stock determination of a droughted Pinon-Juniper woodland using structure from motion\n",
    "##### Dan J. Krofcheck, Christopher Lippitt, Marcy E. Litvak\n",
    "Low cost photogrammetry projects from either manned or unmanned aircraft can leverage high image overlap to produce 3-dimensional point clouds of surface features, interpolate ground terrain, and gain some crude multi-spectral capabilities such as pseudo-NDVI with the use of makeshift filters. \n",
    "\n",
    "Here we test the ability of SfM data to characterize the distribution of C stocks across a PJ woodland, and subsequently bin the biomass estimates into live and dead carbon pools.\n",
    "\n",
    "Analysis requirements:\n",
    "    1. Use ground measurements and allometries to create a volume to biomass relationship for P and J\n",
    "    2. Perturb this relationship for varying degrees of P mortality\n",
    "    3. Characterize the SfM to ground volume uncertainty\n",
    "    4. propagate uncertainty from P mortality and volume:volume relationship into SfM volume to ground biomass relationship\n",
    "    5. Conduct a segmentation on the SfM data\n",
    "    6. Determine vegetation status (live / dead) using pseudo NDVI for each segment\n",
    "    7. Apply allometry to each segment, if segment is dead, subtract foliar biomass component"
   ]
  },
  {
   "cell_type": "markdown",
   "metadata": {},
   "source": [
    "#### Load required libraries"
   ]
  },
  {
   "cell_type": "code",
   "execution_count": 3,
   "metadata": {
    "collapsed": false
   },
   "outputs": [],
   "source": [
    "# ------- Notebook config\n",
    "%matplotlib inline\n",
    "import matplotlib.colors\n",
    "import matplotlib.pyplot as plt\n",
    "\n",
    "# ------- Load dependencies\n",
    "import pandas as pd\n",
    "import numpy as np\n",
    "import seaborn as sns\n",
    "import os, osr, gdal\n",
    "from sklearn import linear_model\n",
    "\n",
    "# Data Dir:\n",
    "# Output Dir:\n"
   ]
  },
  {
   "cell_type": "markdown",
   "metadata": {},
   "source": [
    "#### Function definition"
   ]
  },
  {
   "cell_type": "code",
   "execution_count": 1,
   "metadata": {
    "collapsed": true
   },
   "outputs": [],
   "source": [
    "# Ground data plots -- curve fit process\n",
    "def linearFit(x, yparams, **kwargs):\n",
    "    return coeffs, rmse, resid\n",
    "\n",
    "def plotFit(x, coefs, confInt):\n",
    "    return plot\n",
    "\n",
    "def dropData(x, yparams, **kwargs):\n",
    "    return subsetOfData\n",
    "\n",
    "# Segmentation classification\n",
    "def defineStatus(segmentation, attributes, fourBandRaster):\n",
    "    return ndviRaster, liveDeadRaster, attributesModified\n",
    "\n",
    "# Biomass designation\n",
    "def calculteBiomass(segmentation, attributesModified, liveDeadRaster):\n",
    "    return biomassRaster "
   ]
  }
 ],
 "metadata": {
  "kernelspec": {
   "display_name": "Python 2",
   "language": "python",
   "name": "python2"
  },
  "language_info": {
   "codemirror_mode": {
    "name": "ipython",
    "version": 2
   },
   "file_extension": ".py",
   "mimetype": "text/x-python",
   "name": "python",
   "nbconvert_exporter": "python",
   "pygments_lexer": "ipython2",
   "version": "2.7.11"
  }
 },
 "nbformat": 4,
 "nbformat_minor": 0
}
