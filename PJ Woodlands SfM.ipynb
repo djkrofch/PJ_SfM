{
 "cells": [
  {
   "cell_type": "markdown",
   "metadata": {},
   "source": [
    "### Carbon stock determination of a droughted Pinon-Juniper woodland using structure from motion\n",
    "##### Dan J. Krofcheck, Christopher Lippitt, Marcy E. Litvak (Jesse and Su and ...?)\n",
    "Low cost photogrammetry projects from either manned or unmanned aircraft can leverage high image overlap to produce 3-dimensional point clouds of surface features, interpolate ground terrain, and gain some crude multi-spectral capabilities such as pseudo-NDVI with the use of makeshift filters. \n",
    "\n",
    "Here we test the ability of SfM data to characterize the distribution of C stocks across a PJ woodland, and subsequently bin the biomass estimates into live and dead carbon pools.\n",
    "\n",
    "Analysis requirements:\n",
    "    1. Use ground measurements and allometries to create a volume to biomass \n",
    "        relationship for P and J\n",
    "    2. Perturb this relationship for varying degrees of P mortality\n",
    "    3. Characterize the SfM to ground volume uncertainty\n",
    "    4. propagate uncertainty from P mortality and volume:volume \n",
    "        relationship into SfM volume to ground biomass relationship\n",
    "    5. Conduct a segmentation on the SfM data\n",
    "    6. Determine vegetation status (live / dead) using pseudo NDVI for each segment\n",
    "    7. Apply allometry to each segment, if segment is dead, subtract foliar biomass \n",
    "        component"
   ]
  },
  {
   "cell_type": "markdown",
   "metadata": {},
   "source": [
    "#### Load required libraries"
   ]
  },
  {
   "cell_type": "code",
   "execution_count": 26,
   "metadata": {
    "collapsed": false
   },
   "outputs": [],
   "source": [
    "# ------- Notebook config\n",
    "%matplotlib inline\n",
    "import matplotlib.colors\n",
    "import matplotlib.pyplot as plt\n",
    "\n",
    "# ------- Load dependencies\n",
    "import pandas as pd\n",
    "import numpy as np\n",
    "import seaborn as sns\n",
    "import os, osr, gdal\n",
    "import statsmodels.api as sm\n",
    "import statsmodels.formula.api as smf\n",
    "from statsmodels.regression.quantile_regression import QuantReg\n",
    "from statsmodels.sandbox.regression.predstd import wls_prediction_std\n",
    "\n",
    "import statsmodels.api as sm\n",
    "import statsmodels.formula.api as smf\n",
    "from statsmodels.regression.quantile_regression import QuantReg\n",
    "from statsmodels.sandbox.regression.predstd import wls_prediction_std\n",
    "\n",
    "# Data Input Dir\n",
    "dataIn = 'Y:/DanK/DeerCanyon/Analysis_get/'\n",
    "# Output Dir:\n",
    "dataOut ='Y:/DanK/DeerCanyon/Analysis_put/'\n"
   ]
  },
  {
   "cell_type": "markdown",
   "metadata": {},
   "source": [
    "#### Function definition"
   ]
  },
  {
   "cell_type": "code",
   "execution_count": 1,
   "metadata": {
    "collapsed": true
   },
   "outputs": [],
   "source": [
    "# IO\n",
    "def importRaster(rasterPath, **kwargs):\n",
    "    # Open and read in the raster as an array\n",
    "    raster_ds = gdal.Open(rasterPath)\n",
    "    rastermap = raster_ds.ReadAsArray()\n",
    "    \n",
    "    # Set the default data type to 'float'\n",
    "    if 'dtype' not in kwargs:\n",
    "        dtype = 'float'\n",
    "    rastermap = rastermap.astype(dtype)\n",
    "    \n",
    "    # If specified, set the no data value to NaN\n",
    "    if 'noData' in kwargs:\n",
    "        rastermap[rastermap == noData] = np.nan\n",
    "    return rastermap\n",
    "\n",
    "# Ground data plots -- curve fit process\n",
    "def linearFit(x, yparams, **kwargs):\n",
    "    return coeffs, rmse, resid\n",
    "\n",
    "def plotFit(x, coefs, confInt):\n",
    "    return plot\n",
    "\n",
    "def dropData(x, yparams, **kwargs):\n",
    "    return subsetOfData\n",
    "\n",
    "# Segmentation classification\n",
    "def defineStatus(segmentation, attributes, fourBandRaster):\n",
    "    return ndviRaster, liveDeadRaster, attributesModified\n",
    "\n",
    "# Biomass designation\n",
    "def calculteBiomass(segmentation, attributesModified, liveDeadRaster):\n",
    "    return biomassRaster \n",
    "\n",
    "# Raster visualization\n",
    "def plotRaster(image, ax=None, *args, **kwargs):\n",
    "\n",
    "    # Grab figure axes if none stated\n",
    "    if ax == None:\n",
    "         ax = plt.gca()\n",
    "                   \n",
    "    # Normalize color scheme\n",
    "    if 'norm' not in kwargs:\n",
    "        vmin = kwargs.pop('vmin', None)\n",
    "        vmax = kwargs.pop('vmax', None)\n",
    "        if vmin is None:\n",
    "            vmin = np.min(image) # or what ever\n",
    "        if vmax is None:\n",
    "            vmax = np.max(image)\n",
    "        norm = matplotlib.colors.Normalize(vmin, vmax)\n",
    "        kwargs['norm'] = norm\n",
    "\n",
    "    #ax.figure.canvas.draw() # if you want to force a re-draw\n",
    "    ax.imshow(image, *args, **kwargs)\n",
    "    # Setup axes\n",
    "    ax.spines['left'].set_visible(False)\n",
    "    ax.spines['bottom'].set_visible(False)\n",
    "    ax.spines['top'].set_visible(False)\n",
    "    ax.spines['right'].set_visible(False)\n",
    "\n",
    "    ax.get_xaxis().set_ticks([])\n",
    "    ax.get_yaxis().set_ticks([])\n",
    "\n",
    "# Vector visualization"
   ]
  },
  {
   "cell_type": "markdown",
   "metadata": {},
   "source": [
    "### Linear regression of the ground data\n",
    "The conceptual framework is contingent on there being a strong, species invarient relationship between crown volume and crown biomass. This plot data at the very least represents one approximation of that relationship. By fitting biomass to volume alone, we're leveraging the least amount of information possible. Given that these data were collected with height sticks and DBH  tapes, I'd say its a pretty decent relationship."
   ]
  },
  {
   "cell_type": "code",
   "execution_count": 60,
   "metadata": {
    "collapsed": false
   },
   "outputs": [
    {
     "data": {
      "text/html": [
       "<table class=\"simpletable\">\n",
       "<caption>OLS Regression Results</caption>\n",
       "<tr>\n",
       "  <th>Dep. Variable:</th>         <td>BIOMASS</td>     <th>  R-squared:         </th> <td>   0.744</td> \n",
       "</tr>\n",
       "<tr>\n",
       "  <th>Model:</th>                   <td>OLS</td>       <th>  Adj. R-squared:    </th> <td>   0.743</td> \n",
       "</tr>\n",
       "<tr>\n",
       "  <th>Method:</th>             <td>Least Squares</td>  <th>  F-statistic:       </th> <td>   1294.</td> \n",
       "</tr>\n",
       "<tr>\n",
       "  <th>Date:</th>             <td>Mon, 25 Sep 2017</td> <th>  Prob (F-statistic):</th> <td>6.34e-134</td>\n",
       "</tr>\n",
       "<tr>\n",
       "  <th>Time:</th>                 <td>14:58:09</td>     <th>  Log-Likelihood:    </th> <td> -1893.9</td> \n",
       "</tr>\n",
       "<tr>\n",
       "  <th>No. Observations:</th>      <td>   448</td>      <th>  AIC:               </th> <td>   3792.</td> \n",
       "</tr>\n",
       "<tr>\n",
       "  <th>Df Residuals:</th>          <td>   446</td>      <th>  BIC:               </th> <td>   3800.</td> \n",
       "</tr>\n",
       "<tr>\n",
       "  <th>Df Model:</th>              <td>     1</td>      <th>                     </th>     <td> </td>    \n",
       "</tr>\n",
       "<tr>\n",
       "  <th>Covariance Type:</th>      <td>nonrobust</td>    <th>                     </th>     <td> </td>    \n",
       "</tr>\n",
       "</table>\n",
       "<table class=\"simpletable\">\n",
       "<tr>\n",
       "      <td></td>         <th>coef</th>     <th>std err</th>      <th>t</th>      <th>P>|t|</th> <th>[95.0% Conf. Int.]</th> \n",
       "</tr>\n",
       "<tr>\n",
       "  <th>Intercept</th> <td>    1.7009</td> <td>    0.981</td> <td>    1.735</td> <td> 0.083</td> <td>   -0.226     3.628</td>\n",
       "</tr>\n",
       "<tr>\n",
       "  <th>VOLUME</th>    <td>    1.2905</td> <td>    0.036</td> <td>   35.972</td> <td> 0.000</td> <td>    1.220     1.361</td>\n",
       "</tr>\n",
       "</table>\n",
       "<table class=\"simpletable\">\n",
       "<tr>\n",
       "  <th>Omnibus:</th>       <td>214.705</td> <th>  Durbin-Watson:     </th> <td>   1.975</td>\n",
       "</tr>\n",
       "<tr>\n",
       "  <th>Prob(Omnibus):</th> <td> 0.000</td>  <th>  Jarque-Bera (JB):  </th> <td>3260.905</td>\n",
       "</tr>\n",
       "<tr>\n",
       "  <th>Skew:</th>          <td> 1.660</td>  <th>  Prob(JB):          </th> <td>    0.00</td>\n",
       "</tr>\n",
       "<tr>\n",
       "  <th>Kurtosis:</th>      <td>15.793</td>  <th>  Cond. No.          </th> <td>    34.1</td>\n",
       "</tr>\n",
       "</table>"
      ],
      "text/plain": [
       "<class 'statsmodels.iolib.summary.Summary'>\n",
       "\"\"\"\n",
       "                            OLS Regression Results                            \n",
       "==============================================================================\n",
       "Dep. Variable:                BIOMASS   R-squared:                       0.744\n",
       "Model:                            OLS   Adj. R-squared:                  0.743\n",
       "Method:                 Least Squares   F-statistic:                     1294.\n",
       "Date:                Mon, 25 Sep 2017   Prob (F-statistic):          6.34e-134\n",
       "Time:                        14:58:09   Log-Likelihood:                -1893.9\n",
       "No. Observations:                 448   AIC:                             3792.\n",
       "Df Residuals:                     446   BIC:                             3800.\n",
       "Df Model:                           1                                         \n",
       "Covariance Type:            nonrobust                                         \n",
       "==============================================================================\n",
       "                 coef    std err          t      P>|t|      [95.0% Conf. Int.]\n",
       "------------------------------------------------------------------------------\n",
       "Intercept      1.7009      0.981      1.735      0.083        -0.226     3.628\n",
       "VOLUME         1.2905      0.036     35.972      0.000         1.220     1.361\n",
       "==============================================================================\n",
       "Omnibus:                      214.705   Durbin-Watson:                   1.975\n",
       "Prob(Omnibus):                  0.000   Jarque-Bera (JB):             3260.905\n",
       "Skew:                           1.660   Prob(JB):                         0.00\n",
       "Kurtosis:                      15.793   Cond. No.                         34.1\n",
       "==============================================================================\n",
       "\n",
       "Warnings:\n",
       "[1] Standard Errors assume that the covariance matrix of the errors is correctly specified.\n",
       "\"\"\""
      ]
     },
     "execution_count": 60,
     "metadata": {},
     "output_type": "execute_result"
    }
   ],
   "source": [
    "plotData = pd.read_csv(dataIn + 'CPLOT_BIOMASS.csv')\n",
    "plotData = plotData[plotData.Year == 2013]\n",
    "pinon = plotData[plotData.Species == 'PIED ']\n",
    "jumo = plotData[plotData.Species == 'JUMO']\n",
    "\n",
    "fitData = pd.DataFrame(dict(SPECIES = plotData['Species'],\n",
    "                            PLOT = plotData['Transect'],\n",
    "                            VOLUME = plotData['Volume (m3)'],\n",
    "                            BIOMASS = plotData['BIOMASS']/1000))\n",
    "\n",
    "ols = smf.ols('BIOMASS ~ VOLUME', fitData).fit()\n",
    "slope = (ols.params['VOLUME'])\n",
    "intercept = (ols.params['Intercept'])\n",
    "\n",
    "ols.summary()"
   ]
  },
  {
   "cell_type": "code",
   "execution_count": 66,
   "metadata": {
    "collapsed": false
   },
   "outputs": [
    {
     "data": {
      "text/plain": [
       "<matplotlib.text.Text at 0x16029c88>"
      ]
     },
     "execution_count": 66,
     "metadata": {},
     "output_type": "execute_result"
    },
    {
     "data": {
      "image/png": "[encoded data removed]",
      "text/plain": [
       "<matplotlib.figure.Figure at 0x16029908>"
      ]
     },
     "metadata": {},
     "output_type": "display_data"
    }
   ],
   "source": [
    "f, (ax) = plt.subplots(1,1, figsize = (5,5))\n",
    "sns.set_style('ticks')\n",
    "sns.despine()\n",
    "spcCol = ['gray','white']\n",
    "idx = 0\n",
    "y = []\n",
    "\n",
    "for num in np.arange(0, 200, 1):\n",
    "     y.append(intercept + slope*num)\n",
    "ax.plot(np.arange(0, 200, 1), y, color = 'black', linestyle = '--')\n",
    "\n",
    "for species in fitData.SPECIES.unique():\n",
    "    toPlot = fitData[fitData.SPECIES == species]\n",
    "    ax.scatter(toPlot.VOLUME, toPlot.BIOMASS, \n",
    "                color = spcCol[idx], marker = 'o',  \n",
    "                edgecolor='k', s = 75)\n",
    "    idx += 1\n",
    "    \n",
    "ax.set_ylabel('Biomass (Kg)')\n",
    "ax.set_xlabel('Volume (m$^{3}$)')"
   ]
  },
  {
   "cell_type": "code",
   "execution_count": null,
   "metadata": {
    "collapsed": true
   },
   "outputs": [],
   "source": []
  }
 ],
 "metadata": {
  "kernelspec": {
   "display_name": "Python 2",
   "language": "python",
   "name": "python2"
  },
  "language_info": {
   "codemirror_mode": {
    "name": "ipython",
    "version": 2
   },
   "file_extension": ".py",
   "mimetype": "text/x-python",
   "name": "python",
   "nbconvert_exporter": "python",
   "pygments_lexer": "ipython2",
   "version": "2.7.12"
  }
 },
 "nbformat": 4,
 "nbformat_minor": 0
}
